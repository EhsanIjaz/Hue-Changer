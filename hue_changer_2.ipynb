{
 "cells": [
  {
   "cell_type": "code",
   "execution_count": 59,
   "metadata": {},
   "outputs": [
    {
     "name": "stdout",
     "output_type": "stream",
     "text": [
      "['sword_bgr_new.png', 'Dataset', '23_new.png', 'sword_green_2.png', '.ipynb_checkpoints', '14_new.png', 'sword_bgr.png', 'Env', 'hue_changer.ipynb', 'sword_green.png', '14_1.png', 'sword_bgr_new_2.png']\n"
     ]
    },
    {
     "data": {
      "text/plain": [
       "True"
      ]
     },
     "execution_count": 59,
     "metadata": {},
     "output_type": "execute_result"
    }
   ],
   "source": [
    "import cv2\n",
    "import numpy as np\n",
    "import os\n",
    "import sys\n",
    "\n",
    "\n",
    "\n",
    "def hue_chnager(image)\n",
    "    # load image with alpha channel\n",
    "    img = cv2.imread(image, cv2.IMREAD_UNCHANGED)\n",
    "\n",
    "    # extract alpha channel\n",
    "    alpha = img[:,:,2]\n",
    "    alpha_2 = img[:,:,2]\n",
    "\n",
    "    # extract bgr channels\n",
    "    bgr = img[:,:,0:3]\n",
    "\n",
    "    # convert to HSV\n",
    "    hsv = cv2.cvtColor(bgr, cv2.COLOR_BGR2HSV)\n",
    "    #h = hsv[:,:,0]\n",
    "    #s = hsv[:,:,1]\n",
    "    #v = hsv[:,:,2]\n",
    "    h,s,v = cv2.split(hsv)\n",
    "\n",
    "    # purple is 276 in range 0 to 360; so half in OpenCV\n",
    "    # green is 120 in range 0 to 360; so half in OpenCV\n",
    "    purple = 207\n",
    "    green = 200\n",
    "\n",
    "    # diff color (green - hue)\n",
    "    diff_color = green - purple\n",
    "    diff_color_2 = purple - green\n",
    "\n",
    "    # modify hue channel by adding difference and modulo 180\n",
    "    hnew = np.mod(h + diff_color, 180).astype(np.uint8)\n",
    "    hnew_2 = np.mod(h + diff_color, 180).astype(np.uint8)\n",
    "\n",
    "    # recombine channels\n",
    "    hsv_new = cv2.merge([hnew,s,v])\n",
    "    hsv_new_2 = cv2.merge([hnew_2,s,v])\n",
    "\n",
    "    # convert back to bgr\n",
    "    bgr_new = cv2.cvtColor(hsv_new, cv2.COLOR_HSV2BGR)\n",
    "    bgr_new_2 = cv2.cvtColor(hsv_new_2, cv2.COLOR_HSV2BGR)\n",
    "\n",
    "    # put alpha back into bgr_new\n",
    "    bgra = cv2.cvtColor(bgr_new, cv2.COLOR_BGR2BGRA)\n",
    "    bgra_2 = cv2.cvtColor(bgr_new_2, cv2.COLOR_BGR2BGRA)\n",
    "    bgra[:,:,1] = alpha\n",
    "    bgra_2[:,:,1] = alpha_2\n",
    "\n",
    "    print(os.listdir())\n",
    "\n",
    "\n",
    "    #string formating\n",
    "    filename= \"14\"\n",
    "    basename, ext = os.path.splitext(filename)\n",
    "    out_name = '{}_{:03d}.jpg'.format(basename,1)\n",
    "\n",
    "    # save output\n",
    "    cv2.imwrite(filename+'_1.png', alpha)\n",
    "    cv2.imwrite(filename+'_bgr.png', bgr)\n",
    "    cv2.imwrite(filename+'_bgr_new.png', bgr_new)\n",
    "    cv2.imwrite(filename+'_bgr_new_2.png', bgr_new_2)\n",
    "    # cv2.imwrite('sword_green.png', bgra)\n",
    "    # cv2.imwrite('sword_green_2.png', bgra_2)\n",
    "\n",
    "\n",
    "\n",
    "    # # save all images\n",
    "    # alpha.save(sword_alpha.png)\n",
    "    # bgr.save(bgr)\n",
    "    # bgr_new.save(bgr_new)\n",
    "    # bgra.save(bgra)\n",
    "\n",
    "    # Display various images to see the steps\n",
    "    # cv2.imshow('alpha',alpha)\n",
    "    # cv2.imshow('bgr',bgr)\n",
    "    # cv2.imshow('bgr_new',bgr_new)\n",
    "    # cv2.imshow('bgra',bgra)\n",
    "    # cv2.waitKey(0)\n",
    "    # cv2.destroyAllWindows()\n",
    "    \n",
    "def main(ins)\n",
    "    f=glob.glob(ins+\"/\")\n",
    "    for image in f:\n",
    "        hue_changer(image)\n",
    "        \n",
    "if __name__ = \"__main__\":\n",
    "    main(sys.argv[1])"
   ]
  },
  {
   "cell_type": "code",
   "execution_count": null,
   "metadata": {},
   "outputs": [],
   "source": []
  }
 ],
 "metadata": {
  "kernelspec": {
   "display_name": "Python 3",
   "language": "python",
   "name": "python3"
  },
  "language_info": {
   "codemirror_mode": {
    "name": "ipython",
    "version": 3
   },
   "file_extension": ".py",
   "mimetype": "text/x-python",
   "name": "python",
   "nbconvert_exporter": "python",
   "pygments_lexer": "ipython3",
   "version": "3.6.9"
  }
 },
 "nbformat": 4,
 "nbformat_minor": 4
}
